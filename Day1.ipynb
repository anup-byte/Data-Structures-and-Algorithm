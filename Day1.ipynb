{
 "cells": [
  {
   "cell_type": "markdown",
   "metadata": {},
   "source": [
    "Time Complexity"
   ]
  },
  {
   "cell_type": "code",
   "execution_count": 1,
   "metadata": {},
   "outputs": [],
   "source": [
    "def merge(a1, a2, a):\n",
    "    i = 0\n",
    "    j = 0\n",
    "    k = 0\n",
    "    while i < len(a1) and j < len(a2):\n",
    "        if (a1[i] < a2[j]):\n",
    "            a[k] = a1[i]\n",
    "            k = k + 1\n",
    "            i = i + 1\n",
    "\n",
    "        else:\n",
    "             a[k] = a2[j]\n",
    "             k = k + 1\n",
    "             j = j + 1\n",
    "\n",
    "    while i < len(a1):\n",
    "        a[k] = a1[i]\n",
    "        k = k + 1\n",
    "        i = i + 1\n",
    "\n",
    "    while j < len(a2):\n",
    "        a[k] = a2[j]\n",
    "        k = k + 1\n",
    "        j = j + 1             "
   ]
  },
  {
   "cell_type": "code",
   "execution_count": 2,
   "metadata": {},
   "outputs": [],
   "source": [
    "def merge_sort(a):\n",
    "    if len(a) == 0 or len(a) == 1:\n",
    "        return\n",
    "\n",
    "    mid = len(a)//2\n",
    "    a1 = a[0:mid]\n",
    "    a2 = a[mid:]\n",
    "\n",
    "    merge_sort(a1)\n",
    "    merge_sort(a2)\n",
    "\n",
    "    merge(a1, a2, a)\n",
    "     "
   ]
  },
  {
   "cell_type": "code",
   "execution_count": 3,
   "metadata": {},
   "outputs": [],
   "source": [
    "def selection_sort(a):\n",
    "    for i in range(len(a)):\n",
    "        min_idx = i\n",
    "        for j in range(i + 1, len(a)):\n",
    "            if a[min_idx] > a[j]:\n",
    "                min_idx = j\n",
    "        a[i], a[min_idx] = a[min_idx], a[i]        "
   ]
  },
  {
   "cell_type": "code",
   "execution_count": 4,
   "metadata": {},
   "outputs": [],
   "source": [
    "def create_rev_array(n):\n",
    "    a = []\n",
    "    for i in range(n, 0, -1):\n",
    "        a.append(i)\n",
    "    return a    "
   ]
  },
  {
   "cell_type": "code",
   "execution_count": 5,
   "metadata": {},
   "outputs": [],
   "source": [
    "n = 10"
   ]
  },
  {
   "cell_type": "code",
   "execution_count": 6,
   "metadata": {},
   "outputs": [
    {
     "name": "stdout",
     "output_type": "stream",
     "text": [
      "[10, 9, 8, 7, 6, 5, 4, 3, 2, 1]\n"
     ]
    }
   ],
   "source": [
    "a = create_rev_array(n)\n",
    "print(a)"
   ]
  },
  {
   "cell_type": "code",
   "execution_count": 7,
   "metadata": {},
   "outputs": [
    {
     "data": {
      "text/plain": [
       "[1, 2, 3, 4, 5, 6, 7, 8, 9, 10]"
      ]
     },
     "execution_count": 7,
     "metadata": {},
     "output_type": "execute_result"
    }
   ],
   "source": [
    "merge_sort(a)\n",
    "a "
   ]
  },
  {
   "cell_type": "code",
   "execution_count": null,
   "metadata": {},
   "outputs": [],
   "source": [
    "a = create_rev_array(n)\n",
    "merge_sort(a)\n",
    "a "
   ]
  },
  {
   "cell_type": "code",
   "execution_count": 8,
   "metadata": {},
   "outputs": [
    {
     "data": {
      "text/plain": [
       "1705169161.996674"
      ]
     },
     "execution_count": 8,
     "metadata": {},
     "output_type": "execute_result"
    }
   ],
   "source": [
    "import time\n",
    "time.time()"
   ]
  },
  {
   "cell_type": "code",
   "execution_count": 9,
   "metadata": {},
   "outputs": [
    {
     "name": "stdout",
     "output_type": "stream",
     "text": [
      "6.008148193359375e-05\n"
     ]
    }
   ],
   "source": [
    "a = create_rev_array(n)\n",
    "start = time.time()\n",
    "merge_sort(a)\n",
    "end = time.time()\n",
    "print(end - start)"
   ]
  },
  {
   "cell_type": "code",
   "execution_count": 13,
   "metadata": {},
   "outputs": [
    {
     "name": "stdout",
     "output_type": "stream",
     "text": [
      "5.984306335449219e-05\n"
     ]
    }
   ],
   "source": [
    "a = create_rev_array(n)\n",
    "start = time.time()\n",
    "merge_sort(a)\n",
    "end = time.time()\n",
    "print(end - start)"
   ]
  },
  {
   "cell_type": "code",
   "execution_count": 14,
   "metadata": {},
   "outputs": [
    {
     "name": "stdout",
     "output_type": "stream",
     "text": [
      "10 3.3855438232421875e-05\n"
     ]
    }
   ],
   "source": [
    "a = create_rev_array(n)\n",
    "start = time.time()\n",
    "selection_sort(a)\n",
    "end = time.time()\n",
    "print(n, end - start)"
   ]
  },
  {
   "cell_type": "code",
   "execution_count": 17,
   "metadata": {},
   "outputs": [
    {
     "name": "stdout",
     "output_type": "stream",
     "text": [
      "100 0.000308990478515625\n"
     ]
    }
   ],
   "source": [
    "n = 100\n",
    "a = create_rev_array(n)\n",
    "start = time.time()\n",
    "merge_sort(a)\n",
    "end = time.time()\n",
    "print(n, end - start)"
   ]
  },
  {
   "cell_type": "code",
   "execution_count": 18,
   "metadata": {},
   "outputs": [
    {
     "name": "stdout",
     "output_type": "stream",
     "text": [
      "100 0.000286102294921875\n"
     ]
    }
   ],
   "source": [
    "n = 100\n",
    "a = create_rev_array(n)\n",
    "start = time.time()\n",
    "selection_sort(a)\n",
    "end = time.time()\n",
    "print(n, end - start)"
   ]
  },
  {
   "cell_type": "code",
   "execution_count": 19,
   "metadata": {},
   "outputs": [
    {
     "name": "stdout",
     "output_type": "stream",
     "text": [
      "1000 0.0016798973083496094\n"
     ]
    }
   ],
   "source": [
    "n = 1000\n",
    "a = create_rev_array(n)\n",
    "start = time.time()\n",
    "merge_sort(a)\n",
    "end = time.time()\n",
    "print(n, end - start)"
   ]
  },
  {
   "cell_type": "code",
   "execution_count": 20,
   "metadata": {},
   "outputs": [
    {
     "name": "stdout",
     "output_type": "stream",
     "text": [
      "1000 0.02356696128845215\n"
     ]
    }
   ],
   "source": [
    "n = 1000\n",
    "a = create_rev_array(n)\n",
    "start = time.time()\n",
    "selection_sort(a)\n",
    "end = time.time()\n",
    "print(n, end - start)"
   ]
  },
  {
   "cell_type": "code",
   "execution_count": 21,
   "metadata": {},
   "outputs": [
    {
     "name": "stdout",
     "output_type": "stream",
     "text": [
      "10000 0.024382829666137695\n"
     ]
    }
   ],
   "source": [
    "n = 10000\n",
    "a = create_rev_array(n)\n",
    "start = time.time()\n",
    "merge_sort(a)\n",
    "end = time.time()\n",
    "print(n, end - start)"
   ]
  },
  {
   "cell_type": "code",
   "execution_count": 22,
   "metadata": {},
   "outputs": [
    {
     "name": "stdout",
     "output_type": "stream",
     "text": [
      "10000 1.1578118801116943\n"
     ]
    }
   ],
   "source": [
    "n = 10000\n",
    "a = create_rev_array(n)\n",
    "start = time.time()\n",
    "selection_sort(a)\n",
    "end = time.time()\n",
    "print(n, end - start)"
   ]
  },
  {
   "cell_type": "code",
   "execution_count": 23,
   "metadata": {},
   "outputs": [
    {
     "name": "stdout",
     "output_type": "stream",
     "text": [
      "100000 0.18670892715454102\n"
     ]
    }
   ],
   "source": [
    "n = 100000\n",
    "a = create_rev_array(n)\n",
    "start = time.time()\n",
    "merge_sort(a)\n",
    "end = time.time()\n",
    "print(n, end - start)"
   ]
  },
  {
   "cell_type": "code",
   "execution_count": 24,
   "metadata": {},
   "outputs": [
    {
     "name": "stdout",
     "output_type": "stream",
     "text": [
      "100000 117.29463696479797\n"
     ]
    }
   ],
   "source": [
    "n = 100000\n",
    "a = create_rev_array(n)\n",
    "start = time.time()\n",
    "selection_sort(a)\n",
    "end = time.time()\n",
    "print(n, end - start)"
   ]
  },
  {
   "cell_type": "markdown",
   "metadata": {},
   "source": [
    "Its not very reliable for different runs, it gives you different output.\n",
    "\n",
    "It can be very cumbersome\n",
    "\n",
    "So, in practice we will not do the experimental analysis much."
   ]
  },
  {
   "cell_type": "code",
   "execution_count": null,
   "metadata": {},
   "outputs": [],
   "source": []
  },
  {
   "cell_type": "code",
   "execution_count": null,
   "metadata": {},
   "outputs": [],
   "source": []
  },
  {
   "cell_type": "code",
   "execution_count": null,
   "metadata": {},
   "outputs": [],
   "source": []
  },
  {
   "cell_type": "code",
   "execution_count": null,
   "metadata": {},
   "outputs": [],
   "source": []
  },
  {
   "cell_type": "code",
   "execution_count": null,
   "metadata": {},
   "outputs": [],
   "source": []
  },
  {
   "cell_type": "code",
   "execution_count": null,
   "metadata": {},
   "outputs": [],
   "source": []
  }
 ],
 "metadata": {
  "kernelspec": {
   "display_name": "Python 3",
   "language": "python",
   "name": "python3"
  },
  "language_info": {
   "codemirror_mode": {
    "name": "ipython",
    "version": 3
   },
   "file_extension": ".py",
   "mimetype": "text/x-python",
   "name": "python",
   "nbconvert_exporter": "python",
   "pygments_lexer": "ipython3",
   "version": "3.11.3"
  }
 },
 "nbformat": 4,
 "nbformat_minor": 2
}
